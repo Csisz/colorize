{
  "nbformat": 4,
  "nbformat_minor": 0,
  "metadata": {
    "colab": {
      "name": "colorize_train.ipynb",
      "provenance": [],
      "collapsed_sections": [],
      "authorship_tag": "ABX9TyMicxn31Cbt7ClNV2CimVwZ",
      "include_colab_link": true
    },
    "kernelspec": {
      "name": "python3",
      "display_name": "Python 3"
    }
  },
  "cells": [
    {
      "cell_type": "markdown",
      "metadata": {
        "id": "view-in-github",
        "colab_type": "text"
      },
      "source": [
        "<a href=\"https://colab.research.google.com/github/Csisz/colorize/blob/main/colorize_train.ipynb\" target=\"_parent\"><img src=\"https://colab.research.google.com/assets/colab-badge.svg\" alt=\"Open In Colab\"/></a>"
      ]
    },
    {
      "cell_type": "code",
      "metadata": {
        "id": "60B05ZKApDl5"
      },
      "source": [
        "%matplotlib inline\n",
        "import matplotlib.pyplot as plt\n",
        "import cv2\n",
        "import numpy as np \n",
        "import pandas as pd\n",
        "from tensorflow.keras.models import Model, Sequential\n",
        "from tensorflow.keras.layers import Conv2D, Conv2DTranspose, Reshape,LeakyReLU, Dropout\n",
        "import tensorflow as tf\n",
        "from tensorflow.keras.layers import AveragePooling2D,UpSampling2D\n",
        "from tensorflow import keras"
      ],
      "execution_count": null,
      "outputs": []
    },
    {
      "cell_type": "code",
      "metadata": {
        "id": "DR91UgjVpGA3"
      },
      "source": [
        "ab = np.load('/content/drive/My Drive/colorization data/ab1.npy')\n",
        "gray = np.load('/content/drive/My Drive/colorization data/gray_scale.npy')"
      ],
      "execution_count": null,
      "outputs": []
    },
    {
      "cell_type": "code",
      "metadata": {
        "id": "HNXDw_rFpH1d"
      },
      "source": [
        "def batch_prep (gray_img,batch_size=100):\n",
        "    img=np.zeros((batch_size,224,224,3))\n",
        "    for i in range (0,3):\n",
        "      img[:batch_size,:,:,i]=gray_img[:batch_size]\n",
        "      return img\n",
        "img_in=batch_prep(gray,batch_size=300)"
      ],
      "execution_count": null,
      "outputs": []
    },
    {
      "cell_type": "code",
      "metadata": {
        "id": "RLCMAW0jpI0W"
      },
      "source": [
        "def get_rbg(gray_imgs,ab_imgs,n=10):\n",
        "    img1=np.zeros((n,224,224,3))\n",
        "    img1[:,:,:,0]=gray_imgs[0:n:]\n",
        "    img1[:,:,:,1:]=ab_imgs[0:n]\n",
        "    img1=img1.astype('uint8')\n",
        "    imgs=[]\n",
        "    for i in range(0,n):\n",
        "        imgs.append(cv2.cvtColor(img1[i],cv2.COLOR_LAB2RGB))\n",
        "        \n",
        "    imgs=np.array(imgs)\n",
        "    \n",
        "    return imgs"
      ],
      "execution_count": null,
      "outputs": []
    },
    {
      "cell_type": "code",
      "metadata": {
        "id": "q841Oqh2pJtd"
      },
      "source": [
        "img_out = get_rbg(gray_imgs = gray, ab_imgs = ab, n = 300)"
      ],
      "execution_count": null,
      "outputs": []
    },
    {
      "cell_type": "code",
      "metadata": {
        "id": "Vu-zlQ2FpJq1"
      },
      "source": [
        "model = Sequential()\n",
        "model.add(Conv2D(strides=1,kernel_size=3,filters=12,use_bias=True,bias_initializer=tf.keras.initializers.RandomUniform(minval=0.05,maxval=0.05),padding=\"valid\",activation=tf.nn.relu))\n",
        "model.add(Conv2DTranspose(strides=1,kernel_size=3,filters=12,use_bias=True,bias_initializer=tf.keras.initializers.RandomUniform(minval=0.05,maxval=0.05),padding=\"valid\",activation=tf.nn.relu))\n",
        "model.add(LeakyReLU(0.6))\n",
        "model.add(Dropout(0.4))\n",
        "\n",
        "model.add(Conv2D(strides=1,kernel_size=3,filters=12,use_bias=True,bias_initializer=tf.keras.initializers.RandomUniform(minval=0.05,maxval=0.05),padding=\"valid\",activation=tf.nn.relu))\n",
        "model.add(Conv2DTranspose(strides=1,kernel_size=3,filters=3,use_bias=True,bias_initializer=tf.keras.initializers.RandomUniform(minval=0.05,maxval=0.05),padding=\"valid\",activation=tf.nn.relu))\n",
        "model.add(LeakyReLU(0.6))\n",
        "model.add(Dropout(0.4))\n",
        "\n",
        "model.add(Conv2D(strides=1,kernel_size=3,filters=12,use_bias=True,bias_initializer=tf.keras.initializers.RandomUniform(minval=0.05,maxval=0.05),padding=\"valid\",activation=tf.nn.relu))\n",
        "model.add(Conv2DTranspose(strides=1,kernel_size=3,filters=3,use_bias=True,bias_initializer=tf.keras.initializers.RandomUniform(minval=0.05,maxval=0.05),padding=\"valid\",activation=tf.nn.relu))\n",
        "model.add(LeakyReLU(0.6))\n",
        "model.add(Dropout(0.4))\n",
        "\n",
        "model.add(Conv2D(strides=1,kernel_size=3,filters=12,use_bias=True,bias_initializer=tf.keras.initializers.RandomUniform(minval=0.05,maxval=0.05),padding=\"valid\",activation=tf.nn.relu))\n",
        "model.add(Conv2DTranspose(strides=1,kernel_size=3,filters=3,use_bias=True,bias_initializer=tf.keras.initializers.RandomUniform(minval=0.05,maxval=0.05),padding=\"valid\",activation=tf.nn.relu))\n",
        "model.add(AveragePooling2D(pool_size=(2,2)))\n",
        "model.add(UpSampling2D((2,2)))\n",
        "model.add(LeakyReLU(0.6))\n",
        "model.add(Dropout(0.4))\n",
        "\n",
        "model.add(Conv2D(strides=1,kernel_size=3,filters=12,use_bias=True,bias_initializer=tf.keras.initializers.RandomUniform(minval=0.05,maxval=0.05),padding=\"valid\",activation=tf.nn.relu))\n",
        "model.add(Conv2DTranspose(strides=1,kernel_size=3,filters=3,use_bias=True,bias_initializer=tf.keras.initializers.RandomUniform(minval=0.05,maxval=0.05),padding=\"valid\",activation=tf.nn.relu))\n",
        "model.add(LeakyReLU(0.6))\n",
        "model.add(Dropout(0.4))\n"
      ],
      "execution_count": null,
      "outputs": []
    },
    {
      "cell_type": "code",
      "metadata": {
        "id": "dZMJ1C4ppNpt"
      },
      "source": [
        "model.compile(optimizer=tf.keras.optimizers.Adam(clipvalue=0.5),loss='mape',metrics=tf.keras.metrics.Accuracy())"
      ],
      "execution_count": null,
      "outputs": []
    },
    {
      "cell_type": "code",
      "metadata": {
        "id": "lQoVkrD7pOI3"
      },
      "source": [
        "model.fit(img_in,img_out,epochs=100,batch_size=16)"
      ],
      "execution_count": null,
      "outputs": []
    },
    {
      "cell_type": "code",
      "metadata": {
        "id": "Ygk8x5ilpOBO"
      },
      "source": [
        "prediction=model.predict(img_in)"
      ],
      "execution_count": null,
      "outputs": []
    },
    {
      "cell_type": "code",
      "metadata": {
        "id": "7eLJd1GhpVqU"
      },
      "source": [
        "model.save('model.h5')"
      ],
      "execution_count": null,
      "outputs": []
    }
  ]
}