{
  "nbformat": 4,
  "nbformat_minor": 0,
  "metadata": {
    "colab": {
      "name": "face_colorizer.ipynb",
      "provenance": [],
      "mount_file_id": "1kpEvw2G914xAZMjwDqHcNKmELDxK9NQz",
      "authorship_tag": "ABX9TyOJrjSPlRiecpoVAXJF3zzM",
      "include_colab_link": true
    },
    "kernelspec": {
      "name": "python3",
      "display_name": "Python 3"
    }
  },
  "cells": [
    {
      "cell_type": "markdown",
      "metadata": {
        "id": "view-in-github",
        "colab_type": "text"
      },
      "source": [
        "<a href=\"https://colab.research.google.com/github/Csisz/colorize/blob/main/face_colorizer.ipynb\" target=\"_parent\"><img src=\"https://colab.research.google.com/assets/colab-badge.svg\" alt=\"Open In Colab\"/></a>"
      ]
    },
    {
      "cell_type": "code",
      "metadata": {
        "id": "VnRaR51JmZ6F"
      },
      "source": [
        "import numpy as np\n",
        "import random\n",
        "import matplotlib.pyplot as plt\n",
        "import tensorflow as tf\n",
        "\n",
        "from tensorflow.keras.layers import *\n",
        "from tensorflow.keras.models import Sequential, Model\n",
        "from tensorflow.keras.preprocessing.image import ImageDataGenerator\n",
        "from tensorflow.keras.callbacks import ModelCheckpoint\n",
        "from tensorflow.keras.applications.vgg16 import VGG16\n",
        "\n",
        "from skimage import io\n",
        "from skimage.transform import resize\n",
        "from skimage.color import rgb2lab, lab2rgb, rgb2gray, gray2rgb"
      ],
      "execution_count": 1,
      "outputs": []
    },
    {
      "cell_type": "code",
      "metadata": {
        "id": "L4SutuY-mbOs"
      },
      "source": [
        "color_path = \"../input/human-faces/Humans\"\n",
        "color_images = os.listdir(color_path)\n",
        "\n",
        "# Randomly view 9 color images\n",
        "size = 3\n",
        "images = random.sample(color_images, size*size)\n",
        "images = np.array(images)\n",
        "images = images.reshape(size, size)\n",
        "\n",
        "fig, axs = plt.subplots(size, size, figsize = (15, 15))\n",
        "for i in range(size):\n",
        "    for j in range(size):\n",
        "        img_path = os.path.join(color_path, images[i, j])\n",
        "        img = io.imread(img_path)\n",
        "        axs[i, j].imshow(img)\n",
        "        axs[i, j].set(xticks = [], yticks = [])\n",
        "\n",
        "fig.tight_layout()"
      ],
      "execution_count": null,
      "outputs": []
    },
    {
      "cell_type": "code",
      "metadata": {
        "id": "0LW0U88kmh90"
      },
      "source": [
        "# View 9 black-white images for the same random images\n",
        "fig, axs = plt.subplots(size, size, figsize = (15, 15))\n",
        "for i in range(size):\n",
        "    for j in range(size):\n",
        "        img_path = os.path.join(color_path, images[i, j])\n",
        "        img = io.imread(img_path)\n",
        "        img = rgb2gray(img)\n",
        "        axs[i, j].imshow(img, cmap = plt.cm.gray)\n",
        "        axs[i, j].set(xticks = [], yticks = [])\n",
        "\n",
        "fig.tight_layout()"
      ],
      "execution_count": null,
      "outputs": []
    },
    {
      "cell_type": "code",
      "metadata": {
        "id": "yV7V8I9Qmiq8"
      },
      "source": [
        "# Build image data generator \n",
        "train_datagen = ImageDataGenerator(\n",
        "    rescale = 1./255 # Normalization\n",
        ")\n",
        "\n",
        "# Obtain all images from directory\n",
        "batch_size = 1500\n",
        "target_size = 256\n",
        "train = train_datagen.flow_from_directory(\n",
        "    \"../input/human-faces\", \n",
        "    target_size = (target_size, target_size),\n",
        "    batch_size = batch_size\n",
        ")"
      ],
      "execution_count": null,
      "outputs": []
    },
    {
      "cell_type": "code",
      "metadata": {
        "id": "wlbDUHhumxOs"
      },
      "source": [
        "# Convert rgb images to lab\n",
        "X = []\n",
        "Y = []\n",
        "for img in train[0]:\n",
        "    try:\n",
        "        lab = rgb2lab(img)\n",
        "        X.append(lab[:, :, :, 0])\n",
        "        Y.append(lab[:, :, :, 1:] / 128)\n",
        "    except:\n",
        "        print(\"error\")"
      ],
      "execution_count": null,
      "outputs": []
    },
    {
      "cell_type": "code",
      "metadata": {
        "id": "66vu1uOzmw80"
      },
      "source": [
        "# Reshape arrays to suit model input\n",
        "X = np.array(X)\n",
        "Y = np.array(Y)\n",
        "\n",
        "X = X.reshape(batch_size, target_size, target_size, -1)\n",
        "Y = Y.reshape(batch_size, target_size, target_size, -1) \n",
        "\n",
        "print(X.shape)\n",
        "print(Y.shape)"
      ],
      "execution_count": null,
      "outputs": []
    },
    {
      "cell_type": "code",
      "metadata": {
        "id": "yqUxRcFDmw6F"
      },
      "source": [
        "# VGG accepts input of shape (256, 256, 3) so repeat the layer two times \n",
        "X = np.repeat(X, 3, axis=3)"
      ],
      "execution_count": null,
      "outputs": []
    },
    {
      "cell_type": "code",
      "metadata": {
        "id": "O6ABLU6um8mA"
      },
      "source": [
        "# Load the VGG16 model\n",
        "encoder = VGG16(\n",
        "    weights = \"imagenet\",\n",
        "    include_top = False, \n",
        "    input_tensor = Input((256, 256, 3))\n",
        ")"
      ],
      "execution_count": null,
      "outputs": []
    },
    {
      "cell_type": "code",
      "metadata": {
        "id": "Y4Tpi9enm8jc"
      },
      "source": [
        "# print the model summary\n",
        "encoder.summary()"
      ],
      "execution_count": null,
      "outputs": []
    },
    {
      "cell_type": "code",
      "metadata": {
        "id": "9r1KGuZlm8gz"
      },
      "source": [
        "# Unfreeze the weights in the base model, now these weights will be changed during training\n",
        "encoder.trainable = True"
      ],
      "execution_count": null,
      "outputs": []
    },
    {
      "cell_type": "code",
      "metadata": {
        "id": "PyxHqkAVm8eH"
      },
      "source": [
        "#Decoder\n",
        "decoder = Conv2D(512, (3, 3), activation = \"relu\", padding = \"same\")(encoder.output)\n",
        "decoder = UpSampling2D((2, 2))(decoder)\n",
        "decoder = Conv2D(256, (3, 3), activation = \"relu\", padding = \"same\")(decoder)\n",
        "decoder = UpSampling2D((2, 2))(decoder)\n",
        "decoder = Conv2D(128, (3, 3), activation = \"relu\", padding = \"same\")(decoder)\n",
        "decoder = UpSampling2D((2, 2))(decoder)\n",
        "decoder = Conv2D( 64, (3, 3), activation = \"relu\", padding = \"same\")(decoder)\n",
        "decoder = UpSampling2D((2, 2))(decoder)\n",
        "decoder = Conv2D( 32, (3, 3), activation = \"relu\", padding = \"same\")(decoder)\n",
        "decoder = Conv2D( 16, (3, 3), activation = \"relu\", padding = \"same\")(decoder)\n",
        "decoder = Conv2D(  8, (3, 3), activation = \"relu\", padding = \"same\")(decoder)\n",
        "decoder = Conv2D(  4, (3, 3), activation = \"relu\", padding = \"same\")(decoder)\n",
        "decoder = Conv2D(  2, (3, 3), activation = \"tanh\", padding = \"same\")(decoder)\n",
        "decoder = UpSampling2D((2, 2))(decoder)\n",
        "\n",
        "# Model\n",
        "model = Model(inputs = encoder.input, outputs = decoder)"
      ],
      "execution_count": null,
      "outputs": []
    },
    {
      "cell_type": "code",
      "metadata": {
        "id": "q2YQSCFOm8XM"
      },
      "source": [
        "model.summary()"
      ],
      "execution_count": null,
      "outputs": []
    },
    {
      "cell_type": "code",
      "metadata": {
        "id": "3Iaux8PonEUn"
      },
      "source": [
        "# Compile model\n",
        "model.compile(\n",
        "    optimizer = \"adam\", \n",
        "    loss = \"mse\", \n",
        "    metrics = ['accuracy']\n",
        ")"
      ],
      "execution_count": null,
      "outputs": []
    },
    {
      "cell_type": "code",
      "metadata": {
        "id": "AlALTrxGnEO5"
      },
      "source": [
        "# Fit the model (mapping input image to output image)\n",
        "history = model.fit(\n",
        "    X, Y,\n",
        "    epochs = 200,\n",
        "    callbacks = [\n",
        "        ModelCheckpoint(\"model_weights.h5\")\n",
        "    ]\n",
        ")"
      ],
      "execution_count": null,
      "outputs": []
    },
    {
      "cell_type": "code",
      "metadata": {
        "id": "z1emetOqnEL8"
      },
      "source": [
        "# Plot loss curve\n",
        "plt.plot(history.history[\"loss\"])\n",
        "plt.legend([\"loss\"])\n",
        "plt.xlabel(\"Epochs\")\n",
        "plt.ylabel(\"Loss\")\n",
        "plt.title(\"Loss with epochs\")\n",
        "plt.show()"
      ],
      "execution_count": null,
      "outputs": []
    },
    {
      "cell_type": "code",
      "metadata": {
        "id": "bOO5_5MfnMFv"
      },
      "source": [
        "# Visualizing original, input and output images\n",
        "fig, axs = plt.subplots(1, 3, figsize = (15, 5))\n",
        "\n",
        "# Plot original image\n",
        "original_img = io.imread(\"../input/andrew-ng/andrew.jpg\")\n",
        "axs[0].imshow(original_img)\n",
        "axs[0].set(xlabel = \"Original Image\", xticks = [], yticks = [])\n",
        "\n",
        "# Plot gray image (input)\n",
        "img = original_img/255.\n",
        "img = resize(img, (target_size, target_size, 3))\n",
        "img = rgb2lab(img)\n",
        "gray_img = img[:, :, 0]\n",
        "axs[1].imshow(gray_img, cmap = plt.cm.gray)\n",
        "axs[1].set(xlabel = \"Gray Image (input)\", xticks = [], yticks = [])\n",
        "\n",
        "# Make prediction on the input to get output\n",
        "gray_img = gray_img.reshape(1, target_size, target_size, -1)\n",
        "gray_img = np.repeat(gray_img, 3, axis = 3) ###\n",
        "\n",
        "pred = model.predict(gray_img)\n",
        "pred = pred.reshape(target_size, target_size, 2)\n",
        "gray_img = gray_img.reshape(target_size, target_size, 3)\n",
        "\n",
        "# Plot colorized image (output)\n",
        "result = np.zeros((target_size, target_size, 3))\n",
        "result[:, :, 0] = gray_img[:, :, 0]\n",
        "result[:, :, 1:] = pred*128\n",
        "result = lab2rgb(result)\n",
        "axs[2].imshow(result)\n",
        "axs[2].set(xlabel = \"Colorized Image (output)\", xticks = [], yticks = [])"
      ],
      "execution_count": null,
      "outputs": []
    },
    {
      "cell_type": "code",
      "metadata": {
        "id": "Vl1hgcwDnMB2"
      },
      "source": [
        ""
      ],
      "execution_count": null,
      "outputs": []
    },
    {
      "cell_type": "code",
      "metadata": {
        "id": "vhFlED5SnL_E"
      },
      "source": [
        ""
      ],
      "execution_count": null,
      "outputs": []
    }
  ]
}